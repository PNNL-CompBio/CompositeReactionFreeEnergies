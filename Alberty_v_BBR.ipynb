{
 "cells": [
  {
   "cell_type": "code",
   "execution_count": 1,
   "metadata": {},
   "outputs": [
    {
     "data": {
      "text/plain": [
       "2.4788191"
      ]
     },
     "metadata": {},
     "output_type": "display_data"
    }
   ],
   "source": [
    "import numpy as np\n",
    "import pandas as pd\n",
    "import matplotlib.pyplot as plt\n",
    "import matplotlib\n",
    "import subprocess\n",
    "import re\n",
    "import os\n",
    "from IPython.core.display import display\n",
    "pd.set_option('display.max_columns', None,'display.max_rows', None)\n",
    "pd.set_option('display.max_colwidth', None)\n",
    "#from ipynb_latex_setup import *\n",
    "%matplotlib inline\n",
    "T = 298.15\n",
    "R = 8.314e-03\n",
    "RT = R*T\n",
    "display(RT)\n",
    "N_avogadro = 6.022140857e+23"
   ]
  },
  {
   "cell_type": "code",
   "execution_count": 2,
   "metadata": {},
   "outputs": [],
   "source": [
    "def molecular_partition_function(x):\n",
    "    a = max(x)\n",
    "    q_i = np.exp(x-a)\n",
    "    sum_q_i = np.sum(q_i)\n",
    "    log_q = (a + np.log(sum_q_i))\n",
    "    return(log_q)"
   ]
  },
  {
   "cell_type": "code",
   "execution_count": 3,
   "metadata": {},
   "outputs": [
    {
     "data": {
      "text/plain": [
       "2.925876215728814"
      ]
     },
     "metadata": {},
     "output_type": "display_data"
    }
   ],
   "source": [
    "mindex_fixed = [np.array(['H+','H2O']),np.array([1,1])]\n",
    "dgzero = 'DGZERO'\n",
    "chg = 'Charge'\n",
    "isomer = 'Pseudoisomer Index'\n",
    "fx = 'Mole Fraction'\n",
    "coeff = 'Stoich. Coeff'\n",
    "\n",
    "pH = 2.365229276187964\n",
    "pH = 2.925876215728814\n",
    "\n",
    "#pH = 5\n",
    "log_Hconc = -pH*np.log(10)\n",
    "pH = -log_Hconc/np.log(10)\n",
    "pka = 16.7/RT/np.log(10)\n",
    "display(pka)\n",
    "fixed_metabolite = pd.DataFrame(index=mindex_fixed, columns=[chg, dgzero, fx])\n",
    "fixed_metabolite.loc[('H+',1),dgzero] = np.float_(RT*log_Hconc)\n",
    "fixed_metabolite.loc[('H+',1), chg] = np.float_(1.0)\n",
    "fixed_metabolite.loc[('H+',1),fx] = np.float_(1.0)"
   ]
  },
  {
   "cell_type": "markdown",
   "metadata": {},
   "source": [
    "# Pyruvic acid <=> acetaldehyde + CO2\n",
    "\n",
    "All free energies of formation in aqueous solution were obtained from http://equilibrator.weizmann.ac.il/, version 2.2 with source code repository commit hash f8bc4ca931f41ae08c5cf15b8945c1b1a85158d0, using the component contribution method ( Noor E, Haraldsdóttir HS, Milo R, Fleming RMT (2013) Consistent Estimation of Gibbs Energy Using Component Contributions. PLoS Comput Biol 9(7): e1003098. https://doi.org/10.1371/journal.pcbi.1003098)"
   ]
  },
  {
   "cell_type": "code",
   "execution_count": 4,
   "metadata": {},
   "outputs": [
    {
     "data": {
      "text/plain": [
       "5.684341886080802e-14"
      ]
     },
     "metadata": {},
     "output_type": "display_data"
    },
    {
     "data": {
      "text/html": [
       "<div>\n",
       "<style scoped>\n",
       "    .dataframe tbody tr th:only-of-type {\n",
       "        vertical-align: middle;\n",
       "    }\n",
       "\n",
       "    .dataframe tbody tr th {\n",
       "        vertical-align: top;\n",
       "    }\n",
       "\n",
       "    .dataframe thead th {\n",
       "        text-align: right;\n",
       "    }\n",
       "</style>\n",
       "<table border=\"1\" class=\"dataframe\">\n",
       "  <thead>\n",
       "    <tr style=\"text-align: right;\">\n",
       "      <th></th>\n",
       "      <th></th>\n",
       "      <th>Charge</th>\n",
       "      <th>DGZERO</th>\n",
       "      <th>Mole Fraction</th>\n",
       "      <th>Stoich. Coeff</th>\n",
       "    </tr>\n",
       "  </thead>\n",
       "  <tbody>\n",
       "    <tr>\n",
       "      <th rowspan=\"2\" valign=\"top\">pyruvate</th>\n",
       "      <th>1</th>\n",
       "      <td>0</td>\n",
       "      <td>-483.6</td>\n",
       "      <td>0.5</td>\n",
       "      <td>-1.0</td>\n",
       "    </tr>\n",
       "    <tr>\n",
       "      <th>2</th>\n",
       "      <td>-1</td>\n",
       "      <td>-483.6</td>\n",
       "      <td>0.5</td>\n",
       "      <td>-1.0</td>\n",
       "    </tr>\n",
       "    <tr>\n",
       "      <th>acetaldehyde</th>\n",
       "      <th>1</th>\n",
       "      <td>0</td>\n",
       "      <td>-140.3</td>\n",
       "      <td>1</td>\n",
       "      <td>1.0</td>\n",
       "    </tr>\n",
       "    <tr>\n",
       "      <th>CO2</th>\n",
       "      <th>1</th>\n",
       "      <td>0</td>\n",
       "      <td>-386</td>\n",
       "      <td>1</td>\n",
       "      <td>1.0</td>\n",
       "    </tr>\n",
       "  </tbody>\n",
       "</table>\n",
       "</div>"
      ],
      "text/plain": [
       "               Charge DGZERO Mole Fraction  Stoich. Coeff\n",
       "pyruvate     1      0 -483.6           0.5           -1.0\n",
       "             2     -1 -483.6           0.5           -1.0\n",
       "acetaldehyde 1      0 -140.3             1            1.0\n",
       "CO2          1      0   -386             1            1.0"
      ]
     },
     "metadata": {},
     "output_type": "display_data"
    }
   ],
   "source": [
    "mindex1 = [np.array(['pyruvate','pyruvate','acetaldehyde','CO2']),np.array([1,2,1,1])]\n",
    "reaction1 = pd.DataFrame(index=mindex1, columns=[chg, dgzero, fx])\n",
    "reaction1.loc[('pyruvate'), chg] = np.array([0,-1])\n",
    "#Martell AE, Smith RM, Motekaitis RJ. NIST Critically Selected Stability Constants of Metal Complexes Database, 8.0. NIST: Gaithersburg, MD, 2004\n",
    "reaction1.loc[('pyruvate',1),dgzero] = np.float_(-485.8) \n",
    "reaction1.loc[('pyruvate',2),dgzero] = np.float_(-472.3) + fixed_metabolite.loc[('H+',1),dgzero] \n",
    "# Component contribution via eQuilibrator:\n",
    "reaction1.loc[('pyruvate',1),dgzero] = np.float_(-483.6) \n",
    "reaction1.loc[('pyruvate',2),dgzero] = np.float_(-466.9) + fixed_metabolite.loc[('H+',1),dgzero] \n",
    "reaction1.loc[('pyruvate'),coeff] = np.array([-1.0,-1.0])\n",
    "\n",
    "reaction1.loc[('acetaldehyde'), chg] = np.float_(0)\n",
    "#Alberty RA. Thermodynamics of Biochemical Reactions (1st ed.). Hoboken, New Jersey: John Wiley & Sons\n",
    "reaction1.loc[('acetaldehyde'),dgzero] = np.float_(-139.0) \n",
    "# Component Contribution via eQuilibrator\n",
    "reaction1.loc[('acetaldehyde'),dgzero] = np.float_(-140.3) \n",
    "reaction1.loc[('acetaldehyde'),fx] = np.float_(1.0)\n",
    "reaction1.loc[('acetaldehyde'),coeff] = np.float_(1.0)\n",
    "\n",
    "reaction1.loc[('CO2'), chg] = np.float_(0)\n",
    "#Alberty RA. Thermodynamics of Biochemical Reactions (1st ed.). Hoboken, New Jersey: John Wiley & Sons\n",
    "reaction1.loc[('CO2'),dgzero] = np.float_(-386.0) \n",
    "# Component Contribution:\n",
    "reaction1.loc[('CO2'),dgzero] = np.float_(-386.0) \n",
    "reaction1.loc[('CO2'), fx] = np.float_(1)\n",
    "reaction1.loc[('CO2'),coeff] = np.float_(1.0)\n",
    "\n",
    "\n",
    "#ddg = reaction1.loc[('H+',1),dgzero] + reaction1.loc[('pyruvate',2),dgzero] - reaction1.loc[('pyruvate',1),dgzero]\n",
    "ddg = reaction1.loc[('pyruvate',2),dgzero] - reaction1.loc[('pyruvate',1),dgzero]\n",
    "\n",
    "display(ddg)\n",
    "\n",
    "# Calculate molecular partition function for pyruvate\n",
    "x = np.array([-(reaction1.loc[('pyruvate',1),dgzero]/RT), \\\n",
    "     -((reaction1.loc[('pyruvate',2),dgzero]/RT))]) \n",
    "log_q_pyr = molecular_partition_function(x)\n",
    "\n",
    "#q = (-reaction1.loc[('pyruvate'),dgzero]/RT).array.to_numpy(dtype=float)\n",
    "#q = np.sum(np.exp(q))\n",
    "#But mole fraction must be pH dependent:\n",
    "reaction1.loc[('pyruvate',1),fx] = np.exp(-reaction1.loc[('pyruvate',1),dgzero]/RT - log_q_pyr)                \n",
    "#reaction1.loc[('pyruvate',2),fx] = np.exp(-(reaction1.loc[('pyruvate',2),dgzero]+reaction1.loc[('H+',1),dgzero])/RT)/q\n",
    "reaction1.loc[('pyruvate',2),fx] = np.exp(-(reaction1.loc[('pyruvate',2),dgzero]/RT) - log_q_pyr)\n",
    "\n",
    "display(reaction1)"
   ]
  },
  {
   "cell_type": "markdown",
   "metadata": {},
   "source": [
    "Equilibrator results:\n",
    "\n",
    "pH 7.0   -19.5\n",
    "\n",
    "pH 2.4   -42.2\n",
    "\n",
    "pH 0.0.  -42.8"
   ]
  },
  {
   "cell_type": "code",
   "execution_count": 5,
   "metadata": {},
   "outputs": [
    {
     "data": {
      "text/plain": [
       "-42.69999999999402"
      ]
     },
     "metadata": {},
     "output_type": "display_data"
    },
    {
     "data": {
      "text/plain": [
       "-40.98181352971682"
      ]
     },
     "metadata": {},
     "output_type": "display_data"
    }
   ],
   "source": [
    "#BBR:\n",
    "dg0_bbr = np.sum(reaction1[dgzero].multiply(reaction1[fx].multiply(reaction1[coeff]))) \n",
    "display(dg0_bbr)\n",
    "#Alberty\n",
    "dg0_a = reaction1.loc[('acetaldehyde',1),dgzero]*reaction1.loc[('acetaldehyde',1),coeff] + \\\n",
    "        reaction1.loc[('CO2',1),dgzero]*reaction1.loc[('CO2',1),coeff] + \\\n",
    "        (-1)*RT*log_q_pyr*reaction1.loc[('pyruvate',1),coeff]\n",
    "display(dg0_a)"
   ]
  },
  {
   "cell_type": "markdown",
   "metadata": {},
   "source": [
    "# Phosphoenolpyruvate + ADP <=> Pyruvate + ATP\n",
    "\n",
    "All free energies of formation in aqueous solution were obtained from http://equilibrator.weizmann.ac.il/, version 2.2 with source code repository commit hash f8bc4ca931f41ae08c5cf15b8945c1b1a85158d0, using the component contribution method ( Noor E, Haraldsdóttir HS, Milo R, Fleming RMT (2013) Consistent Estimation of Gibbs Energy Using Component Contributions. PLoS Comput Biol 9(7): e1003098. https://doi.org/10.1371/journal.pcbi.1003098)"
   ]
  },
  {
   "cell_type": "code",
   "execution_count": 6,
   "metadata": {
    "scrolled": false
   },
   "outputs": [
    {
     "data": {
      "text/html": [
       "<div>\n",
       "<style scoped>\n",
       "    .dataframe tbody tr th:only-of-type {\n",
       "        vertical-align: middle;\n",
       "    }\n",
       "\n",
       "    .dataframe tbody tr th {\n",
       "        vertical-align: top;\n",
       "    }\n",
       "\n",
       "    .dataframe thead th {\n",
       "        text-align: right;\n",
       "    }\n",
       "</style>\n",
       "<table border=\"1\" class=\"dataframe\">\n",
       "  <thead>\n",
       "    <tr style=\"text-align: right;\">\n",
       "      <th></th>\n",
       "      <th></th>\n",
       "      <th>Charge</th>\n",
       "      <th>DGZERO</th>\n",
       "      <th>Mole Fraction</th>\n",
       "      <th>Stoich. Coeff</th>\n",
       "    </tr>\n",
       "  </thead>\n",
       "  <tbody>\n",
       "    <tr>\n",
       "      <th rowspan=\"4\" valign=\"top\">PEP</th>\n",
       "      <th>1</th>\n",
       "      <td>0</td>\n",
       "      <td>-1324.8</td>\n",
       "      <td>0.00541677</td>\n",
       "      <td>-1.0</td>\n",
       "    </tr>\n",
       "    <tr>\n",
       "      <th>2</th>\n",
       "      <td>-1</td>\n",
       "      <td>-1337.2</td>\n",
       "      <td>0.805837</td>\n",
       "      <td>-1.0</td>\n",
       "    </tr>\n",
       "    <tr>\n",
       "      <th>3</th>\n",
       "      <td>-2</td>\n",
       "      <td>-1333.6</td>\n",
       "      <td>0.18859</td>\n",
       "      <td>-1.0</td>\n",
       "    </tr>\n",
       "    <tr>\n",
       "      <th>4</th>\n",
       "      <td>-3</td>\n",
       "      <td>-1316</td>\n",
       "      <td>0.000155583</td>\n",
       "      <td>-1.0</td>\n",
       "    </tr>\n",
       "    <tr>\n",
       "      <th rowspan=\"6\" valign=\"top\">ADP</th>\n",
       "      <th>1</th>\n",
       "      <td>0</td>\n",
       "      <td>-1992.6</td>\n",
       "      <td>0.653983</td>\n",
       "      <td>-1.0</td>\n",
       "    </tr>\n",
       "    <tr>\n",
       "      <th>2</th>\n",
       "      <td>-1</td>\n",
       "      <td>-1991</td>\n",
       "      <td>0.34296</td>\n",
       "      <td>-1.0</td>\n",
       "    </tr>\n",
       "    <tr>\n",
       "      <th>3</th>\n",
       "      <td>-2</td>\n",
       "      <td>-1979.3</td>\n",
       "      <td>0.00305758</td>\n",
       "      <td>-1.0</td>\n",
       "    </tr>\n",
       "    <tr>\n",
       "      <th>4</th>\n",
       "      <td>-3</td>\n",
       "      <td>-1953.6</td>\n",
       "      <td>9.60908e-08</td>\n",
       "      <td>-1.0</td>\n",
       "    </tr>\n",
       "    <tr>\n",
       "      <th>5</th>\n",
       "      <td>-4</td>\n",
       "      <td>-1899.3</td>\n",
       "      <td>2.94581e-17</td>\n",
       "      <td>-1.0</td>\n",
       "    </tr>\n",
       "    <tr>\n",
       "      <th>6</th>\n",
       "      <td>-5</td>\n",
       "      <td>-1836.2</td>\n",
       "      <td>2.59386e-28</td>\n",
       "      <td>-1.0</td>\n",
       "    </tr>\n",
       "    <tr>\n",
       "      <th rowspan=\"2\" valign=\"top\">pyruvate</th>\n",
       "      <th>1</th>\n",
       "      <td>0</td>\n",
       "      <td>-483.6</td>\n",
       "      <td>0.5</td>\n",
       "      <td>1.0</td>\n",
       "    </tr>\n",
       "    <tr>\n",
       "      <th>2</th>\n",
       "      <td>-1</td>\n",
       "      <td>-483.6</td>\n",
       "      <td>0.5</td>\n",
       "      <td>1.0</td>\n",
       "    </tr>\n",
       "    <tr>\n",
       "      <th rowspan=\"6\" valign=\"top\">ATP</th>\n",
       "      <th>1</th>\n",
       "      <td>0</td>\n",
       "      <td>-2875.9</td>\n",
       "      <td>0.216338</td>\n",
       "      <td>1.0</td>\n",
       "    </tr>\n",
       "    <tr>\n",
       "      <th>2</th>\n",
       "      <td>-1</td>\n",
       "      <td>-2878.2</td>\n",
       "      <td>0.547138</td>\n",
       "      <td>1.0</td>\n",
       "    </tr>\n",
       "    <tr>\n",
       "      <th>3</th>\n",
       "      <td>-2</td>\n",
       "      <td>-2876.1</td>\n",
       "      <td>0.234516</td>\n",
       "      <td>1.0</td>\n",
       "    </tr>\n",
       "    <tr>\n",
       "      <th>4</th>\n",
       "      <td>-3</td>\n",
       "      <td>-2864.3</td>\n",
       "      <td>0.00200811</td>\n",
       "      <td>1.0</td>\n",
       "    </tr>\n",
       "    <tr>\n",
       "      <th>5</th>\n",
       "      <td>-4</td>\n",
       "      <td>-2838.6</td>\n",
       "      <td>6.3109e-08</td>\n",
       "      <td>1.0</td>\n",
       "    </tr>\n",
       "    <tr>\n",
       "      <th>6</th>\n",
       "      <td>-5</td>\n",
       "      <td>-2783.5</td>\n",
       "      <td>1.40104e-17</td>\n",
       "      <td>1.0</td>\n",
       "    </tr>\n",
       "  </tbody>\n",
       "</table>\n",
       "</div>"
      ],
      "text/plain": [
       "           Charge  DGZERO Mole Fraction  Stoich. Coeff\n",
       "PEP      1      0 -1324.8    0.00541677           -1.0\n",
       "         2     -1 -1337.2      0.805837           -1.0\n",
       "         3     -2 -1333.6       0.18859           -1.0\n",
       "         4     -3   -1316   0.000155583           -1.0\n",
       "ADP      1      0 -1992.6      0.653983           -1.0\n",
       "         2     -1   -1991       0.34296           -1.0\n",
       "         3     -2 -1979.3    0.00305758           -1.0\n",
       "         4     -3 -1953.6   9.60908e-08           -1.0\n",
       "         5     -4 -1899.3   2.94581e-17           -1.0\n",
       "         6     -5 -1836.2   2.59386e-28           -1.0\n",
       "pyruvate 1      0  -483.6           0.5            1.0\n",
       "         2     -1  -483.6           0.5            1.0\n",
       "ATP      1      0 -2875.9      0.216338            1.0\n",
       "         2     -1 -2878.2      0.547138            1.0\n",
       "         3     -2 -2876.1      0.234516            1.0\n",
       "         4     -3 -2864.3    0.00200811            1.0\n",
       "         5     -4 -2838.6    6.3109e-08            1.0\n",
       "         6     -5 -2783.5   1.40104e-17            1.0"
      ]
     },
     "metadata": {},
     "output_type": "display_data"
    }
   ],
   "source": [
    "mindex2 = [np.array(['PEP','PEP','PEP','PEP','ADP','ADP','ADP','ADP','ADP','ADP','pyruvate','pyruvate',\\\n",
    "                    'ATP','ATP','ATP','ATP','ATP','ATP']),np.array([1,2,3,4,1,2,3,4,5,6,1,2,1,2,3,4,5,6])]\n",
    "reaction2 = pd.DataFrame(index=mindex2, columns=[chg, dgzero, fx])\n",
    "\n",
    "reaction2.loc[('PEP'), chg] = np.array([0,-1,-2,-3])\n",
    "# Component contribution via eQuilibrator:\n",
    "reaction2.loc[('PEP',1),dgzero] = np.float_(-1324.8) \n",
    "reaction2.loc[('PEP',2),dgzero] = np.float_(-1320.5) + fixed_metabolite.loc[('H+',1),dgzero] \n",
    "reaction2.loc[('PEP',3),dgzero] = np.float_(-1300.2) + 2*fixed_metabolite.loc[('H+',1),dgzero] \n",
    "reaction2.loc[('PEP',4),dgzero] = np.float_(-1265.9) + 3*fixed_metabolite.loc[('H+',1),dgzero] \n",
    "reaction2.loc[('PEP'),coeff] = np.array([-1.0,-1.0,-1.0,-1.0])\n",
    "\n",
    "\n",
    "reaction2.loc[('ADP'), chg] = np.array([0,-1,-2,-3,-4,-5])\n",
    "# Component contribution via eQuilibrator:\n",
    "reaction2.loc[('ADP',1),dgzero] = np.float_(-1992.6) \n",
    "reaction2.loc[('ADP',2),dgzero] = np.float_(-1974.3) + fixed_metabolite.loc[('H+',1),dgzero] \n",
    "reaction2.loc[('ADP',3),dgzero] = np.float_(-1945.9) + 2*fixed_metabolite.loc[('H+',1),dgzero] \n",
    "reaction2.loc[('ADP',4),dgzero] = np.float_(-1903.5) + 3*fixed_metabolite.loc[('H+',1),dgzero] \n",
    "reaction2.loc[('ADP',5),dgzero] = np.float_(-1832.5) + 4*fixed_metabolite.loc[('H+',1),dgzero] \n",
    "reaction2.loc[('ADP',6),dgzero] = np.float_(-1752.7) + 5*fixed_metabolite.loc[('H+',1),dgzero] \n",
    "reaction2.loc[('ADP'),coeff] = np.array([-1.0,-1.0,-1.0,-1.0,-1.0,-1.0])\n",
    "\n",
    "reaction2.loc[('ATP'), chg] = np.array([0,-1,-2,-3,-4,-5])\n",
    "# Component contribution via eQuilibrator:\n",
    "reaction2.loc[('ATP',1),dgzero] = np.float_(-2875.9) \n",
    "reaction2.loc[('ATP',2),dgzero] = np.float_(-2861.5) + fixed_metabolite.loc[('H+',1),dgzero] \n",
    "reaction2.loc[('ATP',3),dgzero] = np.float_(-2842.7) + 2*fixed_metabolite.loc[('H+',1),dgzero] \n",
    "reaction2.loc[('ATP',4),dgzero] = np.float_(-2814.2) + 3*fixed_metabolite.loc[('H+',1),dgzero] \n",
    "reaction2.loc[('ATP',5),dgzero] = np.float_(-2771.8) + 4*fixed_metabolite.loc[('H+',1),dgzero] \n",
    "reaction2.loc[('ATP',6),dgzero] = np.float_(-2700.0) + 5*fixed_metabolite.loc[('H+',1),dgzero] \n",
    "reaction2.loc[('ATP'),coeff] = np.array([1.0,1.0,1.0,1.0,1.0,1.0])\n",
    "\n",
    "reaction2.loc[('pyruvate'), chg] = np.array([0,-1])\n",
    "# Component contribution via eQuilibrator:\n",
    "reaction2.loc[('pyruvate',1),dgzero] = np.float_(-483.6) \n",
    "reaction2.loc[('pyruvate',2),dgzero] = np.float_(-466.9) + fixed_metabolite.loc[('H+',1),dgzero] \n",
    "reaction2.loc[('pyruvate'),coeff] = np.array([1.0,1.0])\n",
    "\n",
    "# Calculate molecular partition function for PEP\n",
    "x = np.array([-(reaction2.loc[('PEP',i),dgzero]/RT) for i in range(1,5)])\n",
    "log_q_pep = molecular_partition_function(x)\n",
    "\n",
    "# Calculate molecular partition function for ADP\n",
    "x = np.array([-(reaction2.loc[('ADP',i),dgzero]/RT) for i in range(1,7) ])\n",
    "log_q_adp = molecular_partition_function(x)\n",
    "\n",
    "# Calculate molecular partition function for ATP\n",
    "x = np.array([-(reaction2.loc[('ATP',i),dgzero]/RT) for i in range(1,7) ])\n",
    "log_q_atp = molecular_partition_function(x)\n",
    "\n",
    "# Calculate molecular partition function for pyruvate\n",
    "x = np.array([-(reaction2.loc[('pyruvate',i),dgzero]/RT) for i in range(1,3) ])\n",
    "log_q_pyr = molecular_partition_function(x)\n",
    "\n",
    "for i in range(1,5):\n",
    "    reaction2.loc[('PEP',i),fx] = np.exp(-reaction2.loc[('PEP',i),dgzero]/RT - log_q_pep)\n",
    "\n",
    "for i in range(1,7):\n",
    "    reaction2.loc[('ADP',i),fx] = np.exp(-reaction2.loc[('ADP',i),dgzero]/RT - log_q_adp)\n",
    "\n",
    "for i in range(1,7):\n",
    "    reaction2.loc[('ATP',i),fx] = np.exp(-reaction2.loc[('ATP',i),dgzero]/RT - log_q_atp)\n",
    "\n",
    "for i in range(1,3):\n",
    "    reaction2.loc[('pyruvate',i),fx] = np.exp(-reaction2.loc[('pyruvate',i),dgzero]/RT - log_q_pyr)\n",
    "\n",
    "display(reaction2)"
   ]
  },
  {
   "cell_type": "code",
   "execution_count": 7,
   "metadata": {},
   "outputs": [
    {
     "data": {
      "text/plain": [
       "-32.320821116705226"
      ]
     },
     "metadata": {},
     "output_type": "display_data"
    },
    {
     "data": {
      "text/plain": [
       "-33.625246057264576"
      ]
     },
     "metadata": {},
     "output_type": "display_data"
    }
   ],
   "source": [
    "#BBR:\n",
    "dg0_bbr = np.sum(reaction2[dgzero].multiply(reaction2[fx].multiply(reaction2[coeff]))) \n",
    "display(dg0_bbr)\n",
    "#Alberty\n",
    "dg0_a = (-1)*RT*log_q_pep*reaction2.loc[('PEP',1),coeff] + \\\n",
    "        (-1)*RT*log_q_adp*reaction2.loc[('ADP',1),coeff] + \\\n",
    "        (-1)*RT*log_q_pyr*reaction2.loc[('pyruvate',1),coeff] + \\\n",
    "        (-1)*RT*log_q_atp*reaction2.loc[('ATP',1),coeff]\n",
    "display(dg0_a)"
   ]
  }
 ],
 "metadata": {
  "hide_input": false,
  "kernelspec": {
   "display_name": "Python 3",
   "language": "python",
   "name": "python3"
  },
  "language_info": {
   "codemirror_mode": {
    "name": "ipython",
    "version": 3
   },
   "file_extension": ".py",
   "mimetype": "text/x-python",
   "name": "python",
   "nbconvert_exporter": "python",
   "pygments_lexer": "ipython3",
   "version": "3.7.6"
  },
  "latex_envs": {
   "LaTeX_envs_menu_present": true,
   "autoclose": false,
   "autocomplete": true,
   "bibliofile": "whitepaper.bib",
   "cite_by": "apalike",
   "current_citInitial": 1,
   "eqLabelWithNumbers": true,
   "eqNumInitial": 1,
   "hotkeys": {
    "equation": "Ctrl-E",
    "itemize": "Ctrl-I"
   },
   "labels_anchors": false,
   "latex_user_defs": false,
   "report_style_numbering": false,
   "user_envs_cfg": false
  },
  "toc": {
   "base_numbering": 1,
   "nav_menu": {},
   "number_sections": true,
   "sideBar": true,
   "skip_h1_title": false,
   "title_cell": "Table of Contents",
   "title_sidebar": "Contents",
   "toc_cell": false,
   "toc_position": {},
   "toc_section_display": true,
   "toc_window_display": false
  }
 },
 "nbformat": 4,
 "nbformat_minor": 2
}
