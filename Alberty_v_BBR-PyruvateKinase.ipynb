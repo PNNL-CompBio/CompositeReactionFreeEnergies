{
 "cells": [
  {
   "cell_type": "code",
   "execution_count": 1,
   "metadata": {},
   "outputs": [
    {
     "data": {
      "text/plain": [
       "2.4788191"
      ]
     },
     "metadata": {},
     "output_type": "display_data"
    }
   ],
   "source": [
    "import numpy as np\n",
    "import pandas as pd\n",
    "import matplotlib.pyplot as plt\n",
    "import matplotlib\n",
    "import subprocess\n",
    "import re\n",
    "import os\n",
    "from IPython.core.display import display\n",
    "pd.set_option('display.max_columns', None,'display.max_rows', None)\n",
    "pd.set_option('display.max_colwidth', None)\n",
    "#from ipynb_latex_setup import *\n",
    "%matplotlib inline\n",
    "T = 298.15\n",
    "R = 8.314e-03\n",
    "RT = R*T\n",
    "display(RT)\n",
    "N_avogadro = 6.022140857e+23"
   ]
  },
  {
   "cell_type": "code",
   "execution_count": 2,
   "metadata": {},
   "outputs": [],
   "source": [
    "def molecular_partition_function(x):\n",
    "    a = max(x)\n",
    "    q_i = np.exp(x-a)\n",
    "    sum_q_i = np.sum(q_i)\n",
    "    log_q = (a + np.log(sum_q_i))\n",
    "    return(log_q)"
   ]
  },
  {
   "cell_type": "code",
   "execution_count": 3,
   "metadata": {},
   "outputs": [],
   "source": [
    "mindex_fixed = [np.array(['H+','H2O']),np.array([1,1])]\n",
    "dgzero = 'DGZERO'\n",
    "chg = 'Charge'\n",
    "isomer = 'Pseudoisomer Index'\n",
    "fx = 'Mole Fraction'\n",
    "coeff = 'Stoich. Coeff'"
   ]
  },
  {
   "cell_type": "code",
   "execution_count": 4,
   "metadata": {},
   "outputs": [],
   "source": [
    "mindex2 = [np.array(['PEP','PEP','PEP','PEP','ADP','ADP','ADP','ADP','ADP','ADP','pyruvate','pyruvate',\\\n",
    "                    'ATP','ATP','ATP','ATP','ATP','ATP']),np.array([1,2,3,4,1,2,3,4,5,6,1,2,1,2,3,4,5,6])]\n",
    "reaction2 = pd.DataFrame(index=mindex2, columns=[chg, dgzero, fx])\n",
    "reaction2.loc[('PEP'), chg] = np.array([0,-1,-2,-3])\n",
    "reaction2.loc[('PEP'),coeff] = np.array([-1.0,-1.0,-1.0,-1.0])\n",
    "reaction2.loc[('ADP'), chg] = np.array([0,-1,-2,-3,-4,-5])\n",
    "reaction2.loc[('ADP'),coeff] = np.array([-1.0,-1.0,-1.0,-1.0,-1.0,-1.0])\n",
    "reaction2.loc[('ATP'), chg] = np.array([0,-1,-2,-3,-4,-5])\n",
    "reaction2.loc[('ATP'),coeff] = np.array([1.0,1.0,1.0,1.0,1.0,1.0])\n",
    "reaction2.loc[('pyruvate'), chg] = np.array([0,-1])\n",
    "reaction2.loc[('pyruvate'),coeff] = np.array([1.0,1.0])\n",
    "results = pd.DataFrame()"
   ]
  },
  {
   "cell_type": "markdown",
   "metadata": {},
   "source": [
    "# Phosphoenolpyruvate + ADP <=> Pyruvate + ATP\n",
    "\n",
    "All free energies of formation in aqueous solution were obtained from http://equilibrator.weizmann.ac.il/, version 2.2 with source code repository commit hash f8bc4ca931f41ae08c5cf15b8945c1b1a85158d0, using the component contribution method ( Noor E, Haraldsdóttir HS, Milo R, Fleming RMT (2013) Consistent Estimation of Gibbs Energy Using Component Contributions. PLoS Comput Biol 9(7): e1003098. https://doi.org/10.1371/journal.pcbi.1003098) "
   ]
  },
  {
   "cell_type": "code",
   "execution_count": 5,
   "metadata": {},
   "outputs": [
    {
     "data": {
      "text/html": [
       "<div>\n",
       "<style scoped>\n",
       "    .dataframe tbody tr th:only-of-type {\n",
       "        vertical-align: middle;\n",
       "    }\n",
       "\n",
       "    .dataframe tbody tr th {\n",
       "        vertical-align: top;\n",
       "    }\n",
       "\n",
       "    .dataframe thead th {\n",
       "        text-align: right;\n",
       "    }\n",
       "</style>\n",
       "<table border=\"1\" class=\"dataframe\">\n",
       "  <thead>\n",
       "    <tr style=\"text-align: right;\">\n",
       "      <th></th>\n",
       "      <th>0.0</th>\n",
       "      <th>1.0</th>\n",
       "      <th>2.0</th>\n",
       "      <th>3.0</th>\n",
       "      <th>4.0</th>\n",
       "      <th>5.0</th>\n",
       "      <th>6.0</th>\n",
       "      <th>7.0</th>\n",
       "      <th>8.0</th>\n",
       "    </tr>\n",
       "  </thead>\n",
       "  <tbody>\n",
       "    <tr>\n",
       "      <th>BBR</th>\n",
       "      <td>-42.694418</td>\n",
       "      <td>-40.919082</td>\n",
       "      <td>-34.626944</td>\n",
       "      <td>-32.48775</td>\n",
       "      <td>-35.302351</td>\n",
       "      <td>-35.693618</td>\n",
       "      <td>-35.027716</td>\n",
       "      <td>-29.866917</td>\n",
       "      <td>-23.753206</td>\n",
       "    </tr>\n",
       "    <tr>\n",
       "      <th>Alberty</th>\n",
       "      <td>-41.705903</td>\n",
       "      <td>-39.662456</td>\n",
       "      <td>-35.591050</td>\n",
       "      <td>-33.63184</td>\n",
       "      <td>-34.593709</td>\n",
       "      <td>-34.763228</td>\n",
       "      <td>-33.314772</td>\n",
       "      <td>-29.105780</td>\n",
       "      <td>-23.613282</td>\n",
       "    </tr>\n",
       "  </tbody>\n",
       "</table>\n",
       "</div>"
      ],
      "text/plain": [
       "               0.0        1.0        2.0       3.0        4.0        5.0  \\\n",
       "BBR     -42.694418 -40.919082 -34.626944 -32.48775 -35.302351 -35.693618   \n",
       "Alberty -41.705903 -39.662456 -35.591050 -33.63184 -34.593709 -34.763228   \n",
       "\n",
       "               6.0        7.0        8.0  \n",
       "BBR     -35.027716 -29.866917 -23.753206  \n",
       "Alberty -33.314772 -29.105780 -23.613282  "
      ]
     },
     "metadata": {},
     "output_type": "display_data"
    }
   ],
   "source": [
    "pH_vec = np.arange(0,9,0.1)\n",
    "c_vec = np.zeros(np.shape(pH_vec))\n",
    "ddg_vec = np.zeros(np.shape(pH_vec))\n",
    "j = 0\n",
    "for pH in pH_vec:\n",
    "    log_Hconc = -pH*np.log(10)\n",
    "\n",
    "    fixed_metabolite = pd.DataFrame(index=mindex_fixed, columns=[chg, dgzero, fx])\n",
    "    fixed_metabolite.loc[('H+',1),dgzero] = np.float_(RT*log_Hconc)\n",
    "    fixed_metabolite.loc[('H+',1), chg] = np.float_(1.0)\n",
    "    fixed_metabolite.loc[('H+',1),fx] = np.float_(1.0)\n",
    "\n",
    "    # Component contribution via eQuilibrator:\n",
    "    reaction2.loc[('PEP',1),dgzero] = np.float_(-1324.8) \n",
    "    reaction2.loc[('PEP',2),dgzero] = np.float_(-1320.5) + fixed_metabolite.loc[('H+',1),dgzero] \n",
    "    reaction2.loc[('PEP',3),dgzero] = np.float_(-1300.2) + 2*fixed_metabolite.loc[('H+',1),dgzero] \n",
    "    reaction2.loc[('PEP',4),dgzero] = np.float_(-1265.9) + 3*fixed_metabolite.loc[('H+',1),dgzero] \n",
    "\n",
    "    # Component contribution via eQuilibrator:\n",
    "    reaction2.loc[('ADP',1),dgzero] = np.float_(-1992.6) \n",
    "    reaction2.loc[('ADP',2),dgzero] = np.float_(-1974.3) + fixed_metabolite.loc[('H+',1),dgzero] \n",
    "    reaction2.loc[('ADP',3),dgzero] = np.float_(-1945.9) + 2*fixed_metabolite.loc[('H+',1),dgzero] \n",
    "    reaction2.loc[('ADP',4),dgzero] = np.float_(-1903.5) + 3*fixed_metabolite.loc[('H+',1),dgzero] \n",
    "    reaction2.loc[('ADP',5),dgzero] = np.float_(-1832.5) + 4*fixed_metabolite.loc[('H+',1),dgzero] \n",
    "    reaction2.loc[('ADP',6),dgzero] = np.float_(-1752.7) + 5*fixed_metabolite.loc[('H+',1),dgzero] \n",
    "\n",
    "    # Component contribution via eQuilibrator:\n",
    "    reaction2.loc[('ATP',1),dgzero] = np.float_(-2875.9) \n",
    "    reaction2.loc[('ATP',2),dgzero] = np.float_(-2861.5) + fixed_metabolite.loc[('H+',1),dgzero] \n",
    "    reaction2.loc[('ATP',3),dgzero] = np.float_(-2842.7) + 2*fixed_metabolite.loc[('H+',1),dgzero] \n",
    "    reaction2.loc[('ATP',4),dgzero] = np.float_(-2814.2) + 3*fixed_metabolite.loc[('H+',1),dgzero] \n",
    "    reaction2.loc[('ATP',5),dgzero] = np.float_(-2771.8) + 4*fixed_metabolite.loc[('H+',1),dgzero] \n",
    "    reaction2.loc[('ATP',6),dgzero] = np.float_(-2700.0) + 5*fixed_metabolite.loc[('H+',1),dgzero] \n",
    "\n",
    "    # Component contribution via eQuilibrator:\n",
    "    reaction2.loc[('pyruvate',1),dgzero] = np.float_(-483.6) \n",
    "    reaction2.loc[('pyruvate',2),dgzero] = np.float_(-466.9) + fixed_metabolite.loc[('H+',1),dgzero] \n",
    "\n",
    "    # Calculate molecular partition function for PEP\n",
    "    x = np.array([-(reaction2.loc[('PEP',i),dgzero]/RT) for i in range(1,5)])\n",
    "    log_q_pep = molecular_partition_function(x)\n",
    "\n",
    "    # Calculate molecular partition function for ADP\n",
    "    x = np.array([-(reaction2.loc[('ADP',i),dgzero]/RT) for i in range(1,7) ])\n",
    "    log_q_adp = molecular_partition_function(x)\n",
    "\n",
    "    # Calculate molecular partition function for ATP\n",
    "    x = np.array([-(reaction2.loc[('ATP',i),dgzero]/RT) for i in range(1,7) ])\n",
    "    log_q_atp = molecular_partition_function(x)\n",
    "\n",
    "    # Calculate molecular partition function for pyruvate\n",
    "    x = np.array([-(reaction2.loc[('pyruvate',i),dgzero]/RT) for i in range(1,3) ])\n",
    "    log_q_pyr = molecular_partition_function(x)\n",
    "\n",
    "    for i in range(1,5):\n",
    "        reaction2.loc[('PEP',i),fx] = np.exp(-reaction2.loc[('PEP',i),dgzero]/RT - log_q_pep)\n",
    "\n",
    "    for i in range(1,7):\n",
    "        reaction2.loc[('ADP',i),fx] = np.exp(-reaction2.loc[('ADP',i),dgzero]/RT - log_q_adp)\n",
    "\n",
    "    for i in range(1,7):\n",
    "        reaction2.loc[('ATP',i),fx] = np.exp(-reaction2.loc[('ATP',i),dgzero]/RT - log_q_atp)\n",
    "\n",
    "    for i in range(1,3):\n",
    "        reaction2.loc[('pyruvate',i),fx] = np.exp(-reaction2.loc[('pyruvate',i),dgzero]/RT - log_q_pyr)\n",
    "\n",
    "    #BBR:\n",
    "    dg0_bbr = np.sum(reaction2[dgzero].multiply(reaction2[fx].multiply(reaction2[coeff]))) \n",
    "    #display('BBR:',dg0_bbr)\n",
    "    #Alberty\n",
    "    dg0_a = (-1)*RT*log_q_pep*reaction2.loc[('PEP',1),coeff] + \\\n",
    "        (-1)*RT*log_q_adp*reaction2.loc[('ADP',1),coeff] + \\\n",
    "        (-1)*RT*log_q_pyr*reaction2.loc[('pyruvate',1),coeff] + \\\n",
    "        (-1)*RT*log_q_atp*reaction2.loc[('ATP',1),coeff]\n",
    "    #display('Alberty:',dg0_a)\n",
    "    if (pH%1 == 0):\n",
    "        results.loc['BBR',pH] = dg0_bbr\n",
    "        results.loc['Alberty',pH] = dg0_a\n",
    "    ddg = (dg0_bbr-dg0_a)\n",
    "    c = np.exp(np.abs(ddg)/RT)\n",
    "    #print(c,ddg)\n",
    "    c_vec[j] = c\n",
    "    ddg_vec[j] = ddg\n",
    "    j += 1\n",
    "\n",
    "display(results)"
   ]
  },
  {
   "cell_type": "code",
   "execution_count": 6,
   "metadata": {
    "scrolled": false
   },
   "outputs": [
    {
     "data": {
      "image/png": "[encoded data removed]",
      "text/plain": [
       "<Figure size 432x288 with 2 Axes>"
      ]
     },
     "metadata": {
      "needs_background": "light"
     },
     "output_type": "display_data"
    }
   ],
   "source": [
    "fig, ax1 = plt.subplots() \n",
    "ax2 = ax1.twinx()\n",
    "ax1.plot(pH_vec,c_vec,'k-',label='c')\n",
    "ax2.plot(pH_vec,ddg_vec,'k:', label='$\\Delta \\Delta_r G$')\n",
    "\n",
    "ax1.set_xlabel('pH', fontsize=20)\n",
    "ax1.set_ylabel('c', fontsize=20)\n",
    "ax2.set_ylabel('$\\Delta \\Delta_r G$ (kJ/mol)',fontsize=20)\n",
    "ax1.legend(frameon=False,loc=2,fontsize=15)\n",
    "ax2.legend(frameon=False,loc=0,fontsize=15)\n",
    "\n",
    "plt.savefig('c_vs_pH.png',bbox_inches='tight')"
   ]
  }
 ],
 "metadata": {
  "hide_input": false,
  "kernelspec": {
   "display_name": "Python 3",
   "language": "python",
   "name": "python3"
  },
  "language_info": {
   "codemirror_mode": {
    "name": "ipython",
    "version": 3
   },
   "file_extension": ".py",
   "mimetype": "text/x-python",
   "name": "python",
   "nbconvert_exporter": "python",
   "pygments_lexer": "ipython3",
   "version": "3.7.6"
  },
  "latex_envs": {
   "LaTeX_envs_menu_present": true,
   "autoclose": false,
   "autocomplete": true,
   "bibliofile": "whitepaper.bib",
   "cite_by": "apalike",
   "current_citInitial": 1,
   "eqLabelWithNumbers": true,
   "eqNumInitial": 1,
   "hotkeys": {
    "equation": "Ctrl-E",
    "itemize": "Ctrl-I"
   },
   "labels_anchors": false,
   "latex_user_defs": false,
   "report_style_numbering": false,
   "user_envs_cfg": false
  },
  "toc": {
   "base_numbering": 1,
   "nav_menu": {},
   "number_sections": true,
   "sideBar": true,
   "skip_h1_title": false,
   "title_cell": "Table of Contents",
   "title_sidebar": "Contents",
   "toc_cell": false,
   "toc_position": {},
   "toc_section_display": true,
   "toc_window_display": false
  }
 },
 "nbformat": 4,
 "nbformat_minor": 2
}
